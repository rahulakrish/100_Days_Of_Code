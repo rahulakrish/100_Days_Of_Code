{
  "cells": [
    {
      "cell_type": "markdown",
      "source": [
        "# New 100 Days of Code\n",
        "## Day 1 - Working with Variables Section"
      ],
      "metadata": {
        "id": "WsdW1ijp3CqZ"
      }
    },
    {
      "cell_type": "code",
      "source": [
        "#simple print statement\n",
        "\n",
        "print (\"Hello World\")"
      ],
      "metadata": {
        "id": "eEb-4mx_3H-T",
        "outputId": "f3f2ea03-21d1-49e4-9c9c-e9e9981b1739",
        "colab": {
          "base_uri": "https://localhost:8080/"
        }
      },
      "execution_count": 1,
      "outputs": [
        {
          "output_type": "stream",
          "name": "stdout",
          "text": [
            "Hello World\n"
          ]
        }
      ]
    },
    {
      "cell_type": "code",
      "source": [
        "#with new line character \\n\n",
        "\n",
        "print (\"Hello Rahul\\nHow're you?\")"
      ],
      "metadata": {
        "id": "EIiQ7nlz3Jtr",
        "outputId": "8456af4a-c1a1-4e24-d23e-fe21842bb272",
        "colab": {
          "base_uri": "https://localhost:8080/"
        }
      },
      "execution_count": 2,
      "outputs": [
        {
          "output_type": "stream",
          "name": "stdout",
          "text": [
            "Hello Rahul\n",
            "How're you?\n"
          ]
        }
      ]
    },
    {
      "cell_type": "code",
      "source": [],
      "metadata": {
        "id": "jTu9Cb2a3L2p"
      },
      "execution_count": null,
      "outputs": []
    }
  ],
  "metadata": {
    "colab": {
      "name": "Welcome To Colab",
      "toc_visible": true,
      "provenance": []
    },
    "kernelspec": {
      "display_name": "Python 3",
      "name": "python3"
    }
  },
  "nbformat": 4,
  "nbformat_minor": 0
}