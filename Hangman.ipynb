{
  "cells": [
    {
      "cell_type": "markdown",
      "source": [
        "# Hangman"
      ],
      "metadata": {
        "id": "jomkM4ozDSLq"
      }
    },
    {
      "cell_type": "code",
      "source": [
        "# for picking random words from the list\n",
        "import random\n",
        "\n",
        "\n",
        "# list of words\n",
        "word_list = ['wrist','heal','berserk','front','partner','apple',\n",
        "                     'strong','subtract','inquisitive','distinct','development','tenuous','amuse']\n",
        "\n",
        "#picking a random word\n",
        "chosen_word = random.choice(word_list)\n",
        "print(chosen_word)"
      ],
      "metadata": {
        "id": "5IBiBrSuzykn",
        "outputId": "d0865b60-083e-4c7a-9479-5610be48a4b8",
        "colab": {
          "base_uri": "https://localhost:8080/"
        }
      },
      "execution_count": 38,
      "outputs": [
        {
          "output_type": "stream",
          "name": "stdout",
          "text": [
            "tenuous\n"
          ]
        }
      ]
    },
    {
      "cell_type": "code",
      "source": [
        "# hangman stages\n",
        "\n",
        "stages = [r'''\n",
        "  +---+\n",
        "  |   |\n",
        "      |\n",
        "      |\n",
        "      |\n",
        "      |\n",
        "=========''',\n",
        "r'''\n",
        "  +---+\n",
        "  |   |\n",
        "  O   |\n",
        "      |\n",
        "      |\n",
        "      |\n",
        "=========''',\n",
        "r'''\n",
        "  +---+\n",
        "  |   |\n",
        "  O   |\n",
        "  |   |\n",
        "      |\n",
        "      |\n",
        "=========''',\n",
        "r'''\n",
        "  +---+\n",
        "  |   |\n",
        "  O   |\n",
        " /|   |\n",
        "      |\n",
        "      |\n",
        "=========''',\n",
        "r'''\n",
        "  +---+\n",
        "  |   |\n",
        "  O   |\n",
        " /|\\  |\n",
        "      |\n",
        "      |\n",
        "=========''',\n",
        "r'''\n",
        "  +---+\n",
        "  |   |\n",
        "  O   |\n",
        " /|\\  |\n",
        " /    |\n",
        "      |\n",
        "=========''',\n",
        "r'''\n",
        "  +---+\n",
        "  |   |\n",
        "  O   |\n",
        " /|\\  |\n",
        " / \\  |\n",
        "      |\n",
        "=========''']\n"
      ],
      "metadata": {
        "id": "HS95nEumz1uG"
      },
      "execution_count": 39,
      "outputs": []
    },
    {
      "cell_type": "code",
      "source": [
        "# initiating blanks and telling the user the number of letters in the word\n",
        "\n",
        "placeholder = \"\"\n",
        "\n",
        "word_length = len(chosen_word)\n",
        "\n",
        "for _ in range(word_length):\n",
        "  placeholder += \"_\"\n",
        "\n",
        "print (f'Length of word is {len(chosen_word)}\\n')\n",
        "\n",
        "print(placeholder)\n"
      ],
      "metadata": {
        "id": "tZBFJyFpz6z1",
        "outputId": "2407ec87-1f51-41d8-9370-1309ebc7ebe0",
        "colab": {
          "base_uri": "https://localhost:8080/"
        }
      },
      "execution_count": 40,
      "outputs": [
        {
          "output_type": "stream",
          "name": "stdout",
          "text": [
            "Length of word is 7\n",
            "\n",
            "_______\n"
          ]
        }
      ]
    },
    {
      "cell_type": "code",
      "source": [
        "#while loop setup\n",
        "lives = 6\n",
        "\n",
        "game_over = False # is the flag for ending the while loop\n",
        "correct_letters = [] # is used to store the guesses for the display to have all the guesses each time a guess is correct\n",
        "\n",
        "while game_over == False:\n",
        "    guess = input(\"Guess a letter\\n\").lower() #asking the user to guess\n",
        "\n",
        "    print(\"\\n\")\n",
        "\n",
        "    display = \"\"\n",
        "\n",
        "    if guess in correct_letters:\n",
        "        print(f\"You've guessed '{guess}' before. Try again!\")\n",
        "        print(stages[6-lives])\n",
        "        print(display)\n",
        "\n",
        "    for letter in chosen_word:\n",
        "        if letter == guess:\n",
        "            display += letter # this will replace the _ with the guess if it is correct\n",
        "            correct_letters.append(guess)\n",
        "        elif letter in correct_letters: # if display has previous correct guesses, then the next correct guess is added to the display.\n",
        "            display += letter\n",
        "        else:\n",
        "            display += \"_\" # if the guess is wrong\n",
        "\n",
        "    if guess not in correct_letters:\n",
        "        lives = lives - 1\n",
        "        print(f'Wrong! You have {lives} lives left')\n",
        "        print(stages[6-lives])\n",
        "        print(display)\n",
        "    else:\n",
        "        print(f'Correct! You have {lives} left. Keep guessing!')\n",
        "        print(stages[6-lives])\n",
        "        print(display)\n",
        "\n",
        "    print(\"\\n\")\n",
        "\n",
        "    if \"_\" not in display: # if you have no more blanks, that means nothing more left to guess\n",
        "        game_over = True\n",
        "        print(\"You win!\")\n",
        "    else:\n",
        "        if lives == 0:\n",
        "            game_over = True\n",
        "            print(\"No more lives left.You lose!\")\n",
        "            print(f'The word was \"{chosen_word}\" ')"
      ],
      "metadata": {
        "id": "eGxtWL8e0C4N"
      },
      "execution_count": 44,
      "outputs": []
    }
  ],
  "metadata": {
    "colab": {
      "name": "Welcome To Colab",
      "toc_visible": true,
      "provenance": []
    },
    "kernelspec": {
      "display_name": "Python 3",
      "name": "python3"
    }
  },
  "nbformat": 4,
  "nbformat_minor": 0
}