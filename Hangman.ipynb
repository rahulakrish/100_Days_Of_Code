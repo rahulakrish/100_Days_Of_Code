{
  "cells": [
    {
      "cell_type": "markdown",
      "source": [
        "# Hangman"
      ],
      "metadata": {
        "id": "DjPHVtuZQdEr"
      }
    },
    {
      "cell_type": "code",
      "source": [
        "# for picking random words from the list\n",
        "import random"
      ],
      "metadata": {
        "id": "-bY5xQYvCRyv"
      },
      "execution_count": 1,
      "outputs": []
    },
    {
      "cell_type": "code",
      "source": [
        "# list of words\n",
        "word_list = ['wrist','heal','berserk','front','partner','apple',\n",
        "                     'strong','subtract','inquisitive','distinct','development','tenuous','amuse']"
      ],
      "metadata": {
        "id": "jXNuI1ZjCU0w"
      },
      "execution_count": 2,
      "outputs": []
    },
    {
      "cell_type": "code",
      "source": [
        "#picking a random word\n",
        "chosen_word = random.choice(word_list)\n",
        "print(chosen_word)"
      ],
      "metadata": {
        "id": "oHxCRYJnChng",
        "outputId": "dc6e0309-b33f-4df5-9d2a-20788f3bb7d0",
        "colab": {
          "base_uri": "https://localhost:8080/"
        }
      },
      "execution_count": 34,
      "outputs": [
        {
          "output_type": "stream",
          "name": "stdout",
          "text": [
            "strong\n"
          ]
        }
      ]
    },
    {
      "cell_type": "code",
      "source": [
        "# initiating blanks and telling the user the number of letters in the word\n",
        "\n",
        "placeholder = \"\"\n",
        "\n",
        "word_length = len(chosen_word)\n",
        "\n",
        "for _ in range(word_length):\n",
        "  placeholder += \"_\"\n",
        "\n",
        "print (f'Length of word is {len(chosen_word)}\\n')\n",
        "\n",
        "print(placeholder)"
      ],
      "metadata": {
        "id": "JnHSte4lFxgP",
        "outputId": "f12d504f-c5d8-4f8a-f313-64bed9f7a2ff",
        "colab": {
          "base_uri": "https://localhost:8080/"
        }
      },
      "execution_count": 35,
      "outputs": [
        {
          "output_type": "stream",
          "name": "stdout",
          "text": [
            "Length of word is 6\n",
            "\n",
            "______\n"
          ]
        }
      ]
    },
    {
      "cell_type": "code",
      "source": [
        "game_over = False # is the flag for ending the while loop\n",
        "correct_letters = [] # is used to store the guesses for the display to have all the guesses each time a guess is correct\n",
        "\n",
        "while game_over == False:\n",
        "  guess = input(\"Guess a letter\\n\").lower() #asking the user to guess\n",
        "\n",
        "  print(\"\\n\")\n",
        "\n",
        "  display = \"\"\n",
        "\n",
        "  for letter in chosen_word:\n",
        "    if letter == guess:\n",
        "      display += letter # this will replace the _ with the guess if it is correct\n",
        "      correct_letters.append(guess)\n",
        "    elif letter in correct_letters: # if display has previous correct guesses, then the next correct guess is added to the display.\n",
        "    # otherwise dispaly will just get overwritten with the next correct guess\n",
        "      display += letter\n",
        "    else:\n",
        "      display += \"_\" # if the guess is wrong\n",
        "\n",
        "  print(display)\n",
        "\n",
        "  print(\"\\n\")\n",
        "\n",
        "  if \"_\" not in display: # if you have no more blanks, that means nothing more left to guess\n",
        "    game_over = True\n",
        "    print(\"You win!\")\n",
        "\n",
        "\n",
        "\n"
      ],
      "metadata": {
        "id": "VnINpdF7CmRl",
        "outputId": "7dd3ff49-5995-48a8-e069-5d6b5c5f1507",
        "colab": {
          "base_uri": "https://localhost:8080/",
          "height": 599
        }
      },
      "execution_count": 46,
      "outputs": [
        {
          "output_type": "stream",
          "name": "stdout",
          "text": [
            "Guess a letter\n",
            "s\n",
            "\n",
            "\n",
            "s_____\n",
            "\n",
            "\n",
            "Guess a letter\n",
            "t\n",
            "\n",
            "\n",
            "st____\n",
            "\n",
            "\n"
          ]
        },
        {
          "output_type": "error",
          "ename": "KeyboardInterrupt",
          "evalue": "Interrupted by user",
          "traceback": [
            "\u001b[0;31m---------------------------------------------------------------------------\u001b[0m",
            "\u001b[0;31mKeyboardInterrupt\u001b[0m                         Traceback (most recent call last)",
            "\u001b[0;32m/tmp/ipython-input-3569234738.py\u001b[0m in \u001b[0;36m<cell line: 0>\u001b[0;34m()\u001b[0m\n\u001b[1;32m      3\u001b[0m \u001b[0;34m\u001b[0m\u001b[0m\n\u001b[1;32m      4\u001b[0m \u001b[0;32mwhile\u001b[0m \u001b[0mgame_over\u001b[0m \u001b[0;34m==\u001b[0m \u001b[0;32mFalse\u001b[0m\u001b[0;34m:\u001b[0m\u001b[0;34m\u001b[0m\u001b[0;34m\u001b[0m\u001b[0m\n\u001b[0;32m----> 5\u001b[0;31m   \u001b[0mguess\u001b[0m \u001b[0;34m=\u001b[0m \u001b[0minput\u001b[0m\u001b[0;34m(\u001b[0m\u001b[0;34m\"Guess a letter\\n\"\u001b[0m\u001b[0;34m)\u001b[0m\u001b[0;34m.\u001b[0m\u001b[0mlower\u001b[0m\u001b[0;34m(\u001b[0m\u001b[0;34m)\u001b[0m\u001b[0;34m\u001b[0m\u001b[0;34m\u001b[0m\u001b[0m\n\u001b[0m\u001b[1;32m      6\u001b[0m \u001b[0;34m\u001b[0m\u001b[0m\n\u001b[1;32m      7\u001b[0m   \u001b[0mprint\u001b[0m\u001b[0;34m(\u001b[0m\u001b[0;34m\"\\n\"\u001b[0m\u001b[0;34m)\u001b[0m\u001b[0;34m\u001b[0m\u001b[0;34m\u001b[0m\u001b[0m\n",
            "\u001b[0;32m/usr/local/lib/python3.12/dist-packages/ipykernel/kernelbase.py\u001b[0m in \u001b[0;36mraw_input\u001b[0;34m(self, prompt)\u001b[0m\n\u001b[1;32m   1175\u001b[0m                 \u001b[0;34m\"raw_input was called, but this frontend does not support input requests.\"\u001b[0m\u001b[0;34m\u001b[0m\u001b[0;34m\u001b[0m\u001b[0m\n\u001b[1;32m   1176\u001b[0m             )\n\u001b[0;32m-> 1177\u001b[0;31m         return self._input_request(\n\u001b[0m\u001b[1;32m   1178\u001b[0m             \u001b[0mstr\u001b[0m\u001b[0;34m(\u001b[0m\u001b[0mprompt\u001b[0m\u001b[0;34m)\u001b[0m\u001b[0;34m,\u001b[0m\u001b[0;34m\u001b[0m\u001b[0;34m\u001b[0m\u001b[0m\n\u001b[1;32m   1179\u001b[0m             \u001b[0mself\u001b[0m\u001b[0;34m.\u001b[0m\u001b[0m_parent_ident\u001b[0m\u001b[0;34m[\u001b[0m\u001b[0;34m\"shell\"\u001b[0m\u001b[0;34m]\u001b[0m\u001b[0;34m,\u001b[0m\u001b[0;34m\u001b[0m\u001b[0;34m\u001b[0m\u001b[0m\n",
            "\u001b[0;32m/usr/local/lib/python3.12/dist-packages/ipykernel/kernelbase.py\u001b[0m in \u001b[0;36m_input_request\u001b[0;34m(self, prompt, ident, parent, password)\u001b[0m\n\u001b[1;32m   1217\u001b[0m             \u001b[0;32mexcept\u001b[0m \u001b[0mKeyboardInterrupt\u001b[0m\u001b[0;34m:\u001b[0m\u001b[0;34m\u001b[0m\u001b[0;34m\u001b[0m\u001b[0m\n\u001b[1;32m   1218\u001b[0m                 \u001b[0;31m# re-raise KeyboardInterrupt, to truncate traceback\u001b[0m\u001b[0;34m\u001b[0m\u001b[0;34m\u001b[0m\u001b[0m\n\u001b[0;32m-> 1219\u001b[0;31m                 \u001b[0;32mraise\u001b[0m \u001b[0mKeyboardInterrupt\u001b[0m\u001b[0;34m(\u001b[0m\u001b[0;34m\"Interrupted by user\"\u001b[0m\u001b[0;34m)\u001b[0m \u001b[0;32mfrom\u001b[0m \u001b[0;32mNone\u001b[0m\u001b[0;34m\u001b[0m\u001b[0;34m\u001b[0m\u001b[0m\n\u001b[0m\u001b[1;32m   1220\u001b[0m             \u001b[0;32mexcept\u001b[0m \u001b[0mException\u001b[0m\u001b[0;34m:\u001b[0m\u001b[0;34m\u001b[0m\u001b[0;34m\u001b[0m\u001b[0m\n\u001b[1;32m   1221\u001b[0m                 \u001b[0mself\u001b[0m\u001b[0;34m.\u001b[0m\u001b[0mlog\u001b[0m\u001b[0;34m.\u001b[0m\u001b[0mwarning\u001b[0m\u001b[0;34m(\u001b[0m\u001b[0;34m\"Invalid Message:\"\u001b[0m\u001b[0;34m,\u001b[0m \u001b[0mexc_info\u001b[0m\u001b[0;34m=\u001b[0m\u001b[0;32mTrue\u001b[0m\u001b[0;34m)\u001b[0m\u001b[0;34m\u001b[0m\u001b[0;34m\u001b[0m\u001b[0m\n",
            "\u001b[0;31mKeyboardInterrupt\u001b[0m: Interrupted by user"
          ]
        }
      ]
    },
    {
      "cell_type": "code",
      "source": [],
      "metadata": {
        "id": "2v8zXhsGCyPp"
      },
      "execution_count": null,
      "outputs": []
    }
  ],
  "metadata": {
    "colab": {
      "name": "Welcome To Colab",
      "toc_visible": true,
      "provenance": []
    },
    "kernelspec": {
      "display_name": "Python 3",
      "name": "python3"
    }
  },
  "nbformat": 4,
  "nbformat_minor": 0
}