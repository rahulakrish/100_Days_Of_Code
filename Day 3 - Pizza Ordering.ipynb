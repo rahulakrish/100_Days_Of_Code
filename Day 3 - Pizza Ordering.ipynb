{
  "cells": [
    {
      "cell_type": "markdown",
      "source": [
        "# Pizza Ordering"
      ],
      "metadata": {
        "id": "uR8cK59B8m4m"
      }
    },
    {
      "cell_type": "code",
      "source": [
        "pizza_size = input(\"Would you like a Small, Medium or Large Pizza?\\n S, M or L\\n \").upper()\n",
        "#upper is used to convert the input to uppercase. answer is case sensitive.\n",
        "#if accept input everywhere using lowercase, the final bill will just show #0\n",
        "\n",
        "bill = 0\n",
        "\n",
        "#using elif here, since you have only 1 condition\n",
        "if pizza_size == \"S\":\n",
        "  bill += 15\n",
        "elif pizza_size == \"M\":\n",
        "  bill += 20\n",
        "elif pizza_size == \"L\":\n",
        "  bill += 25\n",
        "else:\n",
        "  print(\"You typed the wrong input\")\n",
        "\n",
        "print(\"\\n\")\n",
        "\n",
        "add_pepperroni = input(\"Would you like to add pepperroni?\\n Y or N \\n\").upper()\n",
        "\n",
        "\n",
        "#using nested if because you have 2 condition here:\n",
        "# pepperroni and size\n",
        "if add_pepperroni == \"Y\":\n",
        "  if pizza_size == \"S\":\n",
        "    bill +=2\n",
        "  else:\n",
        "    bill +=3\n",
        "#dont need to add a condition for N. block will be skipped if\n",
        "#add_pepperroni is N\n",
        "\n",
        "print(\"\\n\")\n",
        "\n",
        "extra_cheese = input(\"Would you like extra cheese\\n Y or N\\n\").upper()\n",
        "\n",
        "if extra_cheese == \"Y\":\n",
        "  bill +=2\n",
        "\n",
        "print(\"\\n\")\n",
        "\n",
        "print(f\"Your final bill is: ${bill}.\")\n",
        ""
      ],
      "metadata": {
        "id": "1EQI-gDO7ood",
        "outputId": "552637ae-765d-4327-d295-b7682a752ed7",
        "colab": {
          "base_uri": "https://localhost:8080/"
        }
      },
      "execution_count": 24,
      "outputs": [
        {
          "output_type": "stream",
          "name": "stdout",
          "text": [
            "Would you like a Small, Medium or Large Pizza?\n",
            " S, M or L\n",
            " m\n",
            "\n",
            "\n",
            "Would you like to add pepperroni?\n",
            " Y or N \n",
            "y\n",
            "\n",
            "\n",
            "Would you like extra cheese\n",
            " Y or N\n",
            "y\n",
            "\n",
            "\n",
            "Your final bill is: $25.\n"
          ]
        }
      ]
    },
    {
      "cell_type": "code",
      "source": [],
      "metadata": {
        "id": "8h7-Qtm37rAo"
      },
      "execution_count": null,
      "outputs": []
    }
  ],
  "metadata": {
    "colab": {
      "name": "Welcome To Colab",
      "toc_visible": true,
      "provenance": []
    },
    "kernelspec": {
      "display_name": "Python 3",
      "name": "python3"
    }
  },
  "nbformat": 4,
  "nbformat_minor": 0
}