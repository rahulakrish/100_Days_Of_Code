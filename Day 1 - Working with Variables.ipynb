{
  "cells": [
    {
      "cell_type": "markdown",
      "source": [
        "#  100 Days of Code\n"
      ],
      "metadata": {
        "id": "WsdW1ijp3CqZ"
      }
    },
    {
      "cell_type": "markdown",
      "source": [
        "## Day 1 - Working with Variables Section"
      ],
      "metadata": {
        "id": "aoSGrlV_9d8I"
      }
    },
    {
      "cell_type": "code",
      "source": [
        "#simple print statement\n",
        "\n",
        "print (\"Hello World\")"
      ],
      "metadata": {
        "colab": {
          "base_uri": "https://localhost:8080/"
        },
        "id": "eEb-4mx_3H-T",
        "outputId": "f3f2ea03-21d1-49e4-9c9c-e9e9981b1739"
      },
      "execution_count": 1,
      "outputs": [
        {
          "output_type": "stream",
          "name": "stdout",
          "text": [
            "Hello World\n"
          ]
        }
      ]
    },
    {
      "cell_type": "code",
      "source": [
        "#with new line character \\n\n",
        "\n",
        "print (\"Hello Rahul\\nHow're you?\")"
      ],
      "metadata": {
        "colab": {
          "base_uri": "https://localhost:8080/"
        },
        "id": "EIiQ7nlz3Jtr",
        "outputId": "8456af4a-c1a1-4e24-d23e-fe21842bb272"
      },
      "execution_count": 2,
      "outputs": [
        {
          "output_type": "stream",
          "name": "stdout",
          "text": [
            "Hello Rahul\n",
            "How're you?\n"
          ]
        }
      ]
    },
    {
      "cell_type": "code",
      "source": [
        "#with new line character \\n\n",
        "\n",
        "print (\"Hello Rahul\\nHow're you?\\nHope all is well\")\n"
      ],
      "metadata": {
        "colab": {
          "base_uri": "https://localhost:8080/"
        },
        "id": "jTu9Cb2a3L2p",
        "outputId": "91931cef-e690-4dd0-ebed-406fbe1d6666"
      },
      "execution_count": 4,
      "outputs": [
        {
          "output_type": "stream",
          "name": "stdout",
          "text": [
            "Hello Rahul\n",
            "How're you?\n",
            "Hope all is well\n"
          ]
        }
      ]
    },
    {
      "cell_type": "code",
      "source": [
        "#string concatenation using +\n",
        "\n",
        "print(\"Hi Rahul!\" + \" Hope all is well\")"
      ],
      "metadata": {
        "colab": {
          "base_uri": "https://localhost:8080/"
        },
        "id": "j3E-6VGH5JhP",
        "outputId": "62031c2b-318a-4c6d-85e3-29e7a8f27758"
      },
      "execution_count": 5,
      "outputs": [
        {
          "output_type": "stream",
          "name": "stdout",
          "text": [
            "Hi Rahul! Hope all is well\n"
          ]
        }
      ]
    },
    {
      "cell_type": "code",
      "source": [
        "# Input function\n",
        "# used to prompt the user to enter an input\n",
        "# similar to InputBox in VBA or MsgBox\n",
        "\n",
        "input(\"What is your name?\")"
      ],
      "metadata": {
        "colab": {
          "base_uri": "https://localhost:8080/",
          "height": 53
        },
        "id": "0scgzi825NW2",
        "outputId": "8877fd22-670c-4e80-9a75-2407faefafc0"
      },
      "execution_count": 6,
      "outputs": [
        {
          "name": "stdout",
          "output_type": "stream",
          "text": [
            "What is your name?Rahul\n"
          ]
        },
        {
          "output_type": "execute_result",
          "data": {
            "text/plain": [
              "'Rahul'"
            ],
            "application/vnd.google.colaboratory.intrinsic+json": {
              "type": "string"
            }
          },
          "metadata": {},
          "execution_count": 6
        }
      ]
    },
    {
      "cell_type": "code",
      "source": [
        "# combining print and input statements\n",
        "print(\"Hello \" + input(\"What is your name?\"))"
      ],
      "metadata": {
        "colab": {
          "base_uri": "https://localhost:8080/"
        },
        "id": "LErr__np5Plj",
        "outputId": "3cf7ac0f-c2c0-4eeb-b2ba-678bdbb90a67"
      },
      "execution_count": 7,
      "outputs": [
        {
          "output_type": "stream",
          "name": "stdout",
          "text": [
            "What is your name?Rahul\n",
            "Hello Rahul\n"
          ]
        }
      ]
    },
    {
      "cell_type": "code",
      "source": [
        "#combining print, input and string concatenation\n",
        "print(\"Hello \" + input(\"What is your name\") + \"!\")"
      ],
      "metadata": {
        "colab": {
          "base_uri": "https://localhost:8080/"
        },
        "id": "slMXxdpr5S1k",
        "outputId": "57faf40a-355c-4da0-8ed6-3f113f116c9c"
      },
      "execution_count": 8,
      "outputs": [
        {
          "output_type": "stream",
          "name": "stdout",
          "text": [
            "What is your nameRahul\n",
            "Hello Rahul!\n"
          ]
        }
      ]
    },
    {
      "cell_type": "code",
      "source": [
        "#assigning input function to a variable\n",
        "name = input(\"What is your name?\")\n",
        "\n",
        "print(\"Hello \" + name)"
      ],
      "metadata": {
        "colab": {
          "base_uri": "https://localhost:8080/"
        },
        "id": "BfWnoONa5Wd6",
        "outputId": "299470a3-19d1-4ada-8c09-b300d374b92b"
      },
      "execution_count": 9,
      "outputs": [
        {
          "output_type": "stream",
          "name": "stdout",
          "text": [
            "What is your name?Rahul\n",
            "Hello Rahul\n"
          ]
        }
      ]
    },
    {
      "cell_type": "code",
      "source": [
        "len(name)"
      ],
      "metadata": {
        "colab": {
          "base_uri": "https://localhost:8080/"
        },
        "id": "SVcWdm5C5cgA",
        "outputId": "53f87f74-ec41-47d5-e863-fb15b9eaafef"
      },
      "execution_count": 12,
      "outputs": [
        {
          "output_type": "execute_result",
          "data": {
            "text/plain": [
              "5"
            ]
          },
          "metadata": {},
          "execution_count": 12
        }
      ]
    },
    {
      "cell_type": "markdown",
      "source": [
        "### Band Name Generator Project"
      ],
      "metadata": {
        "id": "bOEOMfqe5g6z"
      }
    },
    {
      "cell_type": "code",
      "source": [
        "print (\"Welcome to Band Name Generator\\n\\n\")\n",
        "\n",
        "city_name = input(\"What's the name of the city you grew up in?\\n\")\n",
        "\n",
        "print(\"\\n\")\n",
        "\n",
        "pet_name = input(\"What's your pet's name?\\n\")\n",
        "\n",
        "print(\"\\n\")\n",
        "\n",
        "print(\"Your band name could be \" + city_name + \" \" + pet_name + \"!\")"
      ],
      "metadata": {
        "colab": {
          "base_uri": "https://localhost:8080/"
        },
        "id": "30cyv4_H6PZ6",
        "outputId": "a12f95f2-d35a-4d06-cfcb-865893887618"
      },
      "execution_count": 19,
      "outputs": [
        {
          "output_type": "stream",
          "name": "stdout",
          "text": [
            "Welcome to Band Name Generator\n",
            "\n",
            "\n",
            "What's the name of the city you grew up in?\n",
            "chennai\n",
            "\n",
            "\n",
            "What's your pet's name?\n",
            "toffee\n",
            "\n",
            "\n",
            "Your band name could be chennai toffee!\n"
          ]
        }
      ]
    },
    {
      "cell_type": "code",
      "source": [],
      "metadata": {
        "id": "T0gPpT-f613N"
      },
      "execution_count": null,
      "outputs": []
    }
  ],
  "metadata": {
    "colab": {
      "name": "Welcome To Colab",
      "toc_visible": true,
      "provenance": []
    },
    "kernelspec": {
      "display_name": "Python 3",
      "name": "python3"
    }
  },
  "nbformat": 4,
  "nbformat_minor": 0
}