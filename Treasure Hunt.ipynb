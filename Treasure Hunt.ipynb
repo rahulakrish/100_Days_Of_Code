{
  "cells": [
    {
      "cell_type": "markdown",
      "metadata": {
        "id": "view-in-github",
        "colab_type": "text"
      },
      "source": [
        "<a href=\"https://colab.research.google.com/github/rahulakrish/100_Days_Of_Code/blob/main/Treasure%20Hunt.ipynb\" target=\"_parent\"><img src=\"https://colab.research.google.com/assets/colab-badge.svg\" alt=\"Open In Colab\"/></a>"
      ]
    },
    {
      "cell_type": "markdown",
      "source": [
        "# Treasure Island\n",
        "\n",
        "## Welcome to Treasure Island.\n",
        "## Your mission is to find the treasure chest. Let's begin!\n",
        "\n"
      ],
      "metadata": {
        "id": "SFHmflgpZz4o"
      }
    },
    {
      "cell_type": "code",
      "source": [
        "choice1 = input ('Do you want to go left or right?\\n\\nType left of right\\n\\n').lower()\n",
        "\n",
        "if choice1 == \"left\":\n",
        "\n",
        "  print(\"\\n\")\n",
        "\n",
        "  choice2 = input(\"Do you want to swim or wait?\\n\\nType swim or wait\\n\\n\").lower()\n",
        "\n",
        "  if choice2 == \"wait\":\n",
        "\n",
        "    print(\"\\n\")\n",
        "\n",
        "    choice3 = input(\"Which door do you want to open?\\n\\nType red, blue or yellow\\n\\n\").lower()\n",
        "\n",
        "    if choice3 == \"yellow\":\n",
        "\n",
        "      print(\"\\n\")\n",
        "\n",
        "      print(\"You win!\")\n",
        "\n",
        "    elif choice3 == \"red\":\n",
        "\n",
        "      print(\"\\n\")\n",
        "\n",
        "      print(\"Burned by fire! Game Over!\")\n",
        "\n",
        "    elif choice3 == \"blue\":\n",
        "\n",
        "      print(\"\\n\")\n",
        "\n",
        "      print(\"Eated by beasts! Game Over!\")\n",
        "\n",
        "    else:\n",
        "\n",
        "      print(\"\\n\")\n",
        "\n",
        "      print(\"Game Over!\")\n",
        "\n",
        "  elif choice2 == \"swim\":\n",
        "\n",
        "    print(\"\\n\")\n",
        "\n",
        "    print(\"Attacked by trout! Game Over!\")\n",
        "\n",
        "elif choice1 == \"right\":\n",
        "\n",
        "    print(\"\\n\")\n",
        "\n",
        "    print(\"Fall into a hole! Game Over!\")\n",
        "\n",
        "else:\n",
        "\n",
        "  print(\"\\n\")\n",
        "\n",
        "  print(\"Game Over!\")\n",
        "\n",
        "\n",
        "\n",
        "\n",
        "\n",
        "\n",
        "\n",
        ""
      ],
      "metadata": {
        "id": "qBEwo9uTaXF-",
        "outputId": "45641b5a-704a-455e-acbc-7eaf7b370835",
        "colab": {
          "base_uri": "https://localhost:8080/"
        }
      },
      "execution_count": 11,
      "outputs": [
        {
          "output_type": "stream",
          "name": "stdout",
          "text": [
            "Do you want to go left or right?\n",
            "\n",
            "Type left of right\n",
            "\n",
            "left\n",
            "\n",
            "\n",
            "Do you want to swim or wait?\n",
            "\n",
            "Type swim or wait\n",
            "\n",
            "wait\n",
            "\n",
            "\n",
            "Which door do you want to open?\n",
            "\n",
            "Type red, blue or yellow\n",
            "\n",
            "yellow\n",
            "\n",
            "\n",
            "You win!\n"
          ]
        }
      ]
    }
  ],
  "metadata": {
    "colab": {
      "name": "Welcome To Colab",
      "toc_visible": true,
      "provenance": [],
      "include_colab_link": true
    },
    "kernelspec": {
      "display_name": "Python 3",
      "name": "python3"
    }
  },
  "nbformat": 4,
  "nbformat_minor": 0
}