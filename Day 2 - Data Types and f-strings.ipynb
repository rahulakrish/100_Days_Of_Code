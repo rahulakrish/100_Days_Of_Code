{
  "cells": [
    {
      "cell_type": "markdown",
      "source": [
        "# Tip Calculator"
      ],
      "metadata": {
        "id": "eM0MKyBL9pB8"
      }
    },
    {
      "cell_type": "code",
      "source": [
        "print( \"Welcome to the Tip Calculator\")\n",
        "\n",
        "print(\"\\n\")\n",
        "\n",
        "amount = float(input(\"What is the bill amount? $ \\n\"))\n",
        "\n",
        "print(\"\\n\")\n",
        "\n",
        "tip = float(input(\"What percentage of tip would you like to give? 10,12,or 15\\n\"))\n",
        "\n",
        "\n",
        "print(\"\\n\")\n",
        "\n",
        "final_tip = 1+(tip/100)\n",
        "final_amount = amount*final_tip\n",
        "\n",
        "people = int(input(\"How many people to split the bill\\n\"))\n",
        "\n",
        "print(\"\\n\")\n",
        "\n",
        "amount_per_person = round(final_amount/people,2)\n",
        "\n",
        "print(\"\\n\")\n",
        "\n",
        "print(f\"Each person should pay ${amount_per_person}\")"
      ],
      "metadata": {
        "colab": {
          "base_uri": "https://localhost:8080/"
        },
        "id": "jCGCYirU9sPN",
        "outputId": "63d46bf6-fb9d-4394-8968-b9f139e57466"
      },
      "execution_count": 13,
      "outputs": [
        {
          "output_type": "stream",
          "name": "stdout",
          "text": [
            "Welcome to the Tip Calculator\n",
            "\n",
            "\n",
            "What is the bill amount? $ \n",
            "45\n",
            "\n",
            "\n",
            "What percentage of tip would you like to give? 10,12,or 15\n",
            "10\n",
            "\n",
            "\n",
            "How many people to split the bill\n",
            "2\n",
            "\n",
            "\n",
            "\n",
            "\n",
            "Each person should pay $24.75\n"
          ]
        }
      ]
    }
  ],
  "metadata": {
    "colab": {
      "name": "Welcome To Colab",
      "toc_visible": true,
      "provenance": []
    },
    "kernelspec": {
      "display_name": "Python 3",
      "name": "python3"
    }
  },
  "nbformat": 4,
  "nbformat_minor": 0
}