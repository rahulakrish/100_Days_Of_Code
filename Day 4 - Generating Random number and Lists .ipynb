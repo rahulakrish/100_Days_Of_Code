{
  "cells": [
    {
      "cell_type": "markdown",
      "metadata": {
        "id": "view-in-github",
        "colab_type": "text"
      },
      "source": [
        "<a href=\"https://colab.research.google.com/github/rahulakrish/100_Days_Of_Code/blob/main/Day%204%20-%20Generating%20Random%20number%20and%20Lists%20.ipynb\" target=\"_parent\"><img src=\"https://colab.research.google.com/assets/colab-badge.svg\" alt=\"Open In Colab\"/></a>"
      ]
    },
    {
      "cell_type": "markdown",
      "source": [
        "# Heads or Tails"
      ],
      "metadata": {
        "id": "xBbiQoUlX_sU"
      }
    },
    {
      "cell_type": "code",
      "source": [
        "# random number generator module\n",
        "\n",
        "import random\n",
        "\n",
        "random_number = random.randint(1,25)\n",
        "\n",
        "print(random_number)\n",
        "\n",
        "print('\\n')\n",
        "\n",
        "if random_number % 2  == 0:\n",
        "\n",
        "  print(\"Heads\")\n",
        "\n",
        "else:\n",
        "\n",
        "  print(\"Tails\")\n"
      ],
      "metadata": {
        "id": "6t2lT6FoYC8i",
        "outputId": "e51ae01e-b8b3-42d7-c168-08ac7897a349",
        "colab": {
          "base_uri": "https://localhost:8080/"
        }
      },
      "execution_count": 1,
      "outputs": [
        {
          "output_type": "stream",
          "name": "stdout",
          "text": [
            "20\n",
            "\n",
            "\n",
            "Heads\n"
          ]
        }
      ]
    },
    {
      "cell_type": "markdown",
      "source": [
        "# Who pay's the bill?"
      ],
      "metadata": {
        "id": "Q2FciUOVYLKv"
      }
    },
    {
      "cell_type": "code",
      "source": [
        "friends = ['Alice', 'Bob', 'Charlie', 'Dexter']\n",
        "\n",
        "length = len(friends)\n",
        "\n",
        "# print(f'Length of the list is {length}')\n",
        "\n",
        "random_number = random.randint(0,length-1)\n",
        "\n",
        "print('\\n')\n",
        "\n",
        "print(f'{friends[random_number]} has to pay the bill today')"
      ],
      "metadata": {
        "id": "ymoHRfbFYNCJ",
        "outputId": "0ddf1e32-8975-42b5-9fcd-0320f3b9c65f",
        "colab": {
          "base_uri": "https://localhost:8080/"
        }
      },
      "execution_count": 86,
      "outputs": [
        {
          "output_type": "stream",
          "name": "stdout",
          "text": [
            "\n",
            "\n",
            "Bob has to pay the bill today\n"
          ]
        }
      ]
    },
    {
      "cell_type": "markdown",
      "source": [
        "# Rock, Paper, Scissors\n",
        "\n",
        "##  Rules\n",
        "\n",
        "*   Rock beats Scissors (Rock crushes Scissors)\n",
        "*   Scissors beats Paper (Scissors cut Paper)\n",
        "*   Paper beats Rock (Paper covers Rock)\n",
        "\n",
        "\n"
      ],
      "metadata": {
        "id": "hX75_NKDYUqS"
      }
    },
    {
      "cell_type": "code",
      "source": [
        "#import random generator\n",
        "import random\n",
        "\n",
        "# define rock, paper, scissors\n",
        "\n",
        "rock = \"\"\"\n",
        "                                  88\n",
        "                                  88\n",
        "                                  88\n",
        "8b,dPPYba,  ,adPPYba,   ,adPPYba, 88   ,d8\n",
        "88P'   \"Y8 a8\"     \"8a a8\"     \"\" 88 ,a8\"\n",
        "88         8b       d8 8b         8888[\n",
        "88         \"8a,   ,a8\" \"8a,   ,aa 88`\"Yba,\n",
        "88          `\"YbbdP\"'   `\"Ybbd8\"' 88   `Y8a\n",
        "\n",
        "\n",
        "\"\"\"\n",
        "\n",
        "paper = \"\"\"\n",
        "\n",
        "8b,dPPYba,  ,adPPYYba, 8b,dPPYba,   ,adPPYba, 8b,dPPYba,\n",
        "88P'    \"8a \"\"     `Y8 88P'    \"8a a8P_____88 88P'   \"Y8\n",
        "88       d8 ,adPPPPP88 88       d8 8PP\"\"\"\"\"\"\" 88\n",
        "88b,   ,a8\" 88,    ,88 88b,   ,a8\" \"8b,   ,aa 88\n",
        "88`YbbdP\"'  `\"8bbdP\"Y8 88`YbbdP\"'   `\"Ybbd8\"' 88\n",
        "88                     88\n",
        "88                     88\n",
        "\n",
        "\"\"\"\n",
        "\n",
        "scissors = \"\"\"\n",
        "\n",
        "\n",
        "                     88\n",
        "                     \"\"\n",
        "\n",
        ",adPPYba,  ,adPPYba, 88 ,adPPYba, ,adPPYba,  ,adPPYba,  8b,dPPYba, ,adPPYba,\n",
        "I8[    \"\" a8\"     \"\" 88 I8[    \"\" I8[    \"\" a8\"     \"8a 88P'   \"Y8 I8[    \"\"\n",
        " `\"Y8ba,  8b         88  `\"Y8ba,   `\"Y8ba,  8b       d8 88          `\"Y8ba,\n",
        "aa    ]8I \"8a,   ,aa 88 aa    ]8I aa    ]8I \"8a,   ,a8\" 88         aa    ]8I\n",
        "`\"YbbdP\"'  `\"Ybbd8\"' 88 `\"YbbdP\"' `\"YbbdP\"'  `\"YbbdP\"'  88         `\"YbbdP\"'\n",
        "\n",
        "\n",
        "\"\"\"\n"
      ],
      "metadata": {
        "id": "lT6nEuuDahEs"
      },
      "execution_count": 68,
      "outputs": []
    },
    {
      "cell_type": "code",
      "source": [
        "\n",
        "#declare list\n",
        "items = [rock, paper, scissors]\n",
        "\n",
        "#you pick\n",
        "your_choice = int(input(\"What do you want to pick?\\nRock, Paper or Scissors?\\nType 0 for Rock, 1 for Paper and 2 for Scissors\\n\"))\n",
        "\n",
        "print('\\n')\n",
        "\n",
        "print(f'My choice is {items[your_choice]}')\n",
        "\n",
        "#computer picks\n",
        "computers_choice = random.randint(0,2)\n",
        "\n",
        "print(f'Computer chose:\\n{items[computers_choice]}')\n",
        "\n",
        "\n",
        "# decide who wins\n",
        "\n",
        "if your_choice == 0 and computers_choice == 2:\n",
        "  print('You win!')\n",
        "\n",
        "elif your_choice == 2 and computers_choice == 1:\n",
        "  print('You win!')\n",
        "\n",
        "elif your_choice == 1 and computers_choice == 0:\n",
        "  print('You win!')\n",
        "\n",
        "elif your_choice == computers_choice:\n",
        "  print(\"It's a draw!\")\n",
        "\n",
        "else:\n",
        "  print('You lose!')\n"
      ],
      "metadata": {
        "id": "O-vnyC9YYocw",
        "outputId": "b62ec603-451f-4a81-f826-2fbf8a4c5d02",
        "colab": {
          "base_uri": "https://localhost:8080/"
        }
      },
      "execution_count": 76,
      "outputs": [
        {
          "output_type": "stream",
          "name": "stdout",
          "text": [
            "What do you want to pick?\n",
            "Rock, Paper or Scissors?\n",
            "Type 0 for Rock, 1 for Paper and 2 for Scissors\n",
            "2\n",
            "\n",
            "\n",
            "My choice is \n",
            "\n",
            "\n",
            "                     88\n",
            "                     \"\"\n",
            "\n",
            ",adPPYba,  ,adPPYba, 88 ,adPPYba, ,adPPYba,  ,adPPYba,  8b,dPPYba, ,adPPYba,\n",
            "I8[    \"\" a8\"     \"\" 88 I8[    \"\" I8[    \"\" a8\"     \"8a 88P'   \"Y8 I8[    \"\"\n",
            " `\"Y8ba,  8b         88  `\"Y8ba,   `\"Y8ba,  8b       d8 88          `\"Y8ba,\n",
            "aa    ]8I \"8a,   ,aa 88 aa    ]8I aa    ]8I \"8a,   ,a8\" 88         aa    ]8I\n",
            "`\"YbbdP\"'  `\"Ybbd8\"' 88 `\"YbbdP\"' `\"YbbdP\"'  `\"YbbdP\"'  88         `\"YbbdP\"'\n",
            "\n",
            "\n",
            "\n",
            "Computer chose:\n",
            "\n",
            "                                  88\n",
            "                                  88\n",
            "                                  88\n",
            "8b,dPPYba,  ,adPPYba,   ,adPPYba, 88   ,d8\n",
            "88P'   \"Y8 a8\"     \"8a a8\"     \"\" 88 ,a8\"\n",
            "88         8b       d8 8b         8888[\n",
            "88         \"8a,   ,a8\" \"8a,   ,aa 88`\"Yba,\n",
            "88          `\"YbbdP\"'   `\"Ybbd8\"' 88   `Y8a\n",
            "\n",
            "\n",
            "\n",
            "You lose!\n"
          ]
        }
      ]
    }
  ],
  "metadata": {
    "colab": {
      "name": "Welcome To Colab",
      "toc_visible": true,
      "provenance": [],
      "include_colab_link": true
    },
    "kernelspec": {
      "display_name": "Python 3",
      "name": "python3"
    }
  },
  "nbformat": 4,
  "nbformat_minor": 0
}