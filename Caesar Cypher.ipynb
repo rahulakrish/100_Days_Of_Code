{
  "cells": [
    {
      "cell_type": "markdown",
      "source": [
        "# Caesar Cypher"
      ],
      "metadata": {
        "id": "lm_uA17lWsFE"
      }
    },
    {
      "cell_type": "code",
      "source": [
        "\n",
        "#generate list of alphabets from the string library\n",
        "from string import ascii_lowercase\n",
        "alphabets = list(ascii_lowercase)\n",
        "\n",
        "\n",
        "#get inputs from the user to be fed into the function\n",
        "direction = input(\"Type 'encode' to encrypt, 'decode to decrypt:\").lower()\n",
        "print('\\n')\n",
        "text = input('Type text:').lower()\n",
        "print('\\n')\n",
        "shift_amount = int(input('Type shift amount:'))\n",
        "print('\\n')\n",
        "\n",
        "\n",
        "#define the function\n",
        "def caesar(direction=direction, text= text, shift_amount=shift_amount):\n",
        "\n",
        "    new_text = ''\n",
        "    #loop\n",
        "    for letter in text:\n",
        "        #if there is not a letter i.e. number, character etc., then leave it\n",
        "        if letter not in alphabets:\n",
        "            new_text += letter\n",
        "        #if there is a letter\n",
        "        if letter in alphabets:\n",
        "            #get the original index first\n",
        "            org_index = alphabets.index(letter)\n",
        "            #what to do for encode and decode\n",
        "            if direction == 'encode':\n",
        "                new_index =  (org_index + shift_amount) % len(alphabets)\n",
        "            else:\n",
        "                new_index =  (org_index - shift_amount) % len(alphabets)\n",
        "            #get the shifted letter from the list using the new index\n",
        "            new_letter = alphabets[new_index]\n",
        "            #add to the empty string\n",
        "            new_text += new_letter\n",
        "\n",
        "    print(f'New text is {new_text}')\n",
        "\n",
        "caesar(direction,text,shift_amount)\n",
        "\n",
        "\n"
      ],
      "metadata": {
        "id": "lpYXlt_NWvXg",
        "outputId": "01eb1373-82c4-4098-eeb0-786ba3a57543",
        "colab": {
          "base_uri": "https://localhost:8080/"
        }
      },
      "execution_count": 2,
      "outputs": [
        {
          "output_type": "stream",
          "name": "stdout",
          "text": [
            "Type 'encode' to encrypt, 'decode to decrypt:encode\n",
            "\n",
            "\n",
            "Type text:hello 3\n",
            "\n",
            "\n",
            "Type shift amount:3\n",
            "\n",
            "\n",
            "New text is khoor 3\n"
          ]
        }
      ]
    },
    {
      "cell_type": "code",
      "source": [
        "\"\"\"\n",
        "use modulo to ensure you do not get the list out of index error.\n",
        "i.e if you're looking to shift 'z' by 9, you cannot just add to the org_index\n",
        "because the lenght of the list is 25 and 25 + 9 = 34. To loop around, you use\n",
        "modulo. 9 % 25 is 9. Hence, for z to shift by 9 positions, now, you will get the letter at the 9th position.\n",
        "\n",
        "For negative number, modulo formula is different and will always give you a positive number.\n",
        "That's why you use it for wrapping around for decrypting.\n",
        "\n",
        "\"\"\""
      ],
      "metadata": {
        "id": "hZAvaRBhWvy3"
      },
      "execution_count": null,
      "outputs": []
    }
  ],
  "metadata": {
    "colab": {
      "name": "Welcome To Colab",
      "toc_visible": true,
      "provenance": []
    },
    "kernelspec": {
      "display_name": "Python 3",
      "name": "python3"
    }
  },
  "nbformat": 4,
  "nbformat_minor": 0
}