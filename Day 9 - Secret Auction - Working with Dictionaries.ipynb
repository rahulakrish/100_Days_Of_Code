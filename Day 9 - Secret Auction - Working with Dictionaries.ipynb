{
  "cells": [
    {
      "cell_type": "markdown",
      "source": [
        "# Secret Auction"
      ],
      "metadata": {
        "id": "eMmsv0T6vnWZ"
      }
    },
    {
      "cell_type": "code",
      "source": [
        "# initiate empty dictionary\n",
        "bidders = {}\n",
        "\n",
        "#set flag for while loop\n",
        "continue_bidding = True\n",
        "\n",
        "#use a while loop to keep adding bidders if there are more\n",
        "while continue_bidding == True:\n",
        "    #name of bidder\n",
        "    name = input('What is your name?\\n')\n",
        "    #bid\n",
        "    price = int(input('What is your bid price?\\n'))\n",
        "    #add the info to the dictionary\n",
        "    bidders.update({name:price})\n",
        "    #ask if there are more bidders\n",
        "    should_continue = input('Are there more bidders?\\n')\n",
        "    #if there are, clear the screen so they cannot see the previous bid\n",
        "    print('\\n'*25)\n",
        "    #if there are no bidders then exit the while loop\n",
        "    if should_continue  == 'no':\n",
        "\n",
        "        continue_bidding = False\n",
        "\n",
        "#compare bids and find out highest bid\n",
        "highest_value = 0\n",
        "highest_key = \"\"\n",
        "\n",
        "for key,value in bidders.items():\n",
        "    if value > highest_value:\n",
        "        highest_value = value\n",
        "        highest_key = key\n",
        "\n",
        "\n",
        "print(f'The winning bid is {highest_key} with ${highest_value}!')"
      ],
      "metadata": {
        "id": "_gwbBtX1vrmA"
      },
      "execution_count": null,
      "outputs": []
    }
  ],
  "metadata": {
    "colab": {
      "name": "Welcome To Colab",
      "toc_visible": true,
      "provenance": []
    },
    "kernelspec": {
      "display_name": "Python 3",
      "name": "python3"
    }
  },
  "nbformat": 4,
  "nbformat_minor": 0
}