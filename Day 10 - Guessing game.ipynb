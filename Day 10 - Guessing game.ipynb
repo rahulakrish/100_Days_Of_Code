{
  "cells": [
    {
      "cell_type": "markdown",
      "source": [
        "# Guessing Game"
      ],
      "metadata": {
        "id": "00A0l5bVlAAi"
      }
    },
    {
      "cell_type": "code",
      "source": [
        "import random\n",
        "\n",
        "numbers = [1, 2, 3, 4, 5, 6, 7, 8, 9, 10]\n",
        "\n",
        "chosen_number = random.randint(1, 10)\n",
        "print(f'Chosen number is: {chosen_number}\\n')\n",
        "\n",
        "# Start guessing function\n",
        "def start_guessing():\n",
        "    guessed_list = []\n",
        "    game_over = False\n",
        "\n",
        "    while not game_over:\n",
        "        try:\n",
        "            user_guess = int(input('Guess a number between 1 and 10:\\n'))\n",
        "        except ValueError:\n",
        "            print(\"That's not a valid number! Try again.\")\n",
        "            continue\n",
        "\n",
        "        if user_guess not in guessed_list:\n",
        "            guessed_list.append(user_guess)\n",
        "        else:\n",
        "            print('Already guessed! Guess again!')\n",
        "            continue  # Prevents duplicate feedback\n",
        "\n",
        "        if user_guess > chosen_number:\n",
        "            print('Too high! Guess again!')\n",
        "        elif user_guess < chosen_number:\n",
        "            print('Too low! Guess again!')\n",
        "        else:\n",
        "            print('Awesome! You win!')\n",
        "            game_over = True\n",
        "\n",
        "start_guessing()\n"
      ],
      "metadata": {
        "colab": {
          "base_uri": "https://localhost:8080/"
        },
        "id": "Yb8vBew5lDFg",
        "outputId": "f7ba9982-e951-447a-d01f-75e1f41849d2"
      },
      "execution_count": 7,
      "outputs": [
        {
          "output_type": "stream",
          "name": "stdout",
          "text": [
            "Chosen number is: 5\n",
            "\n",
            "Guess a number between 1 and 10:\n",
            "2\n",
            "Too low! Guess again!\n",
            "Guess a number between 1 and 10:\n",
            "2\n",
            "Already guessed! Guess again!\n",
            "Guess a number between 1 and 10:\n",
            "3\n",
            "Too low! Guess again!\n",
            "Guess a number between 1 and 10:\n",
            "6\n",
            "Too high! Guess again!\n",
            "Guess a number between 1 and 10:\n",
            "10\n",
            "Too high! Guess again!\n",
            "Guess a number between 1 and 10:\n",
            "5\n",
            "Awesome! You win!\n"
          ]
        }
      ]
    }
  ],
  "metadata": {
    "colab": {
      "name": "Welcome To Colab",
      "toc_visible": true,
      "provenance": []
    },
    "kernelspec": {
      "display_name": "Python 3",
      "name": "python3"
    }
  },
  "nbformat": 4,
  "nbformat_minor": 0
}